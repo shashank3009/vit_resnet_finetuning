{
 "cells": [
  {
   "cell_type": "code",
   "execution_count": 2,
   "metadata": {},
   "outputs": [],
   "source": [
    "import os\n",
    "import numpy as np\n",
    "import pandas as pd \n",
    "import json\n",
    "from PIL import Image\n"
   ]
  },
  {
   "cell_type": "markdown",
   "metadata": {},
   "source": [
    "# Image Classification"
   ]
  },
  {
   "cell_type": "markdown",
   "metadata": {},
   "source": [
    "### Skin Cancer\n"
   ]
  },
  {
   "cell_type": "code",
   "execution_count": 2,
   "metadata": {},
   "outputs": [],
   "source": [
    "mapper = {\"actinic_keratoses\": 0,\n",
    "          \"basal_cell_carcinoma\": 1,\n",
    "          \"benign_keratosis-like_lesions\": 2,\n",
    "          \"dermatofibroma\": 3,\n",
    "          \"melanocytic_Nevi\": 4,\n",
    "          \"melanoma\": 5,\n",
    "          \"vascular_lesions\": 6,\n",
    "          }"
   ]
  },
  {
   "cell_type": "code",
   "execution_count": 3,
   "metadata": {},
   "outputs": [
    {
     "data": {
      "text/plain": [
       "{'categories': [{'id': 0, 'name': 'actinic_keratoses'},\n",
       "  {'id': 1, 'name': 'basal_cell_carcinoma'},\n",
       "  {'id': 2, 'name': 'benign_keratosis-like_lesions'},\n",
       "  {'id': 3, 'name': 'dermatofibroma'},\n",
       "  {'id': 4, 'name': 'melanocytic_Nevi'},\n",
       "  {'id': 5, 'name': 'melanoma'},\n",
       "  {'id': 6, 'name': 'vascular_lesions'}]}"
      ]
     },
     "execution_count": 3,
     "metadata": {},
     "output_type": "execute_result"
    }
   ],
   "source": [
    "images_info = {}\n",
    "images_info[\"categories\"] = []\n",
    "i = 0\n",
    "for (key, val) in mapper.items():\n",
    "    x = {}\n",
    "    x[\"id\"] = val\n",
    "    x[\"name\"] = key\n",
    "    images_info[\"categories\"].append(x)\n",
    "    i+=1\n",
    "\n",
    "images_info"
   ]
  },
  {
   "cell_type": "code",
   "execution_count": null,
   "metadata": {},
   "outputs": [],
   "source": [
    "\n",
    "train_images_info = images_info.copy()\n",
    "train_images_info[\"images\"] = []\n",
    "path = \"/home/shashank/tensorflow_datasets/downloads/skin_cancer/train\"\n",
    "i=0\n",
    "\n",
    "for category in mapper.keys():\n",
    "    for file in os.listdir(os.path.join(path, category)):\n",
    "        x = {}\n",
    "        x[\"label\"] = mapper[category]\n",
    "        x[\"file_name\"] =  os.path.join(path, category, file)\n",
    "                \n",
    "        img = Image.open(x[\"file_name\"])\n",
    "        img_array = np.array(img)\n",
    "        x[\"height\"] = img_array.shape[0]\n",
    "        x[\"width\"] = img_array.shape[1]\n",
    "        x[\"id\"] = i\n",
    "        train_images_info[\"images\"].append(x)\n",
    "        i+=1"
   ]
  },
  {
   "cell_type": "code",
   "execution_count": 15,
   "metadata": {},
   "outputs": [],
   "source": [
    "test_images_info = images_info.copy()\n",
    "test_images_info[\"images\"] = []\n",
    "path = \"/home/shashank/tensorflow_datasets/downloads/skin_cancer/test\"\n",
    "i=0\n",
    "\n",
    "for category in mapper.keys():\n",
    "    for file in os.listdir(os.path.join(path, category)):\n",
    "        x = {}\n",
    "        x[\"label\"] = mapper[category]\n",
    "        x[\"file_name\"] =  os.path.join(path, category, file)\n",
    "                \n",
    "        img = Image.open(x[\"file_name\"])\n",
    "        img_array = np.array(img)\n",
    "        x[\"height\"] = img_array.shape[0]\n",
    "        x[\"width\"] = img_array.shape[1]\n",
    "        x[\"id\"] = i\n",
    "        test_images_info[\"images\"].append(x)\n",
    "        i+=1"
   ]
  },
  {
   "cell_type": "code",
   "execution_count": 16,
   "metadata": {},
   "outputs": [],
   "source": [
    "validation_images_info = images_info.copy()\n",
    "validation_images_info[\"images\"] = []\n",
    "path = \"/home/shashank/tensorflow_datasets/downloads/skin_cancer/validation\"\n",
    "i=0\n",
    "\n",
    "for category in mapper.keys():\n",
    "    for file in os.listdir(os.path.join(path, category)):\n",
    "        x = {}\n",
    "        x[\"label\"] = mapper[category]\n",
    "        x[\"file_name\"] =  os.path.join(path, category, file)\n",
    "                \n",
    "        img = Image.open(x[\"file_name\"])\n",
    "        img_array = np.array(img)\n",
    "        x[\"height\"] = img_array.shape[0]\n",
    "        x[\"width\"] = img_array.shape[1]\n",
    "        x[\"id\"] = i\n",
    "        validation_images_info[\"images\"].append(x)\n",
    "        i+=1"
   ]
  },
  {
   "cell_type": "code",
   "execution_count": 17,
   "metadata": {},
   "outputs": [],
   "source": [
    "path = '/home/shashank/tensorflow_datasets/downloads/skin_cancer'"
   ]
  },
  {
   "cell_type": "code",
   "execution_count": 18,
   "metadata": {},
   "outputs": [],
   "source": [
    "import json \n",
    "with open(os.path.join(path, \"train_images_info.json\"), \"w\") as outfile: \n",
    "    json.dump(train_images_info, outfile)\n",
    "\n",
    "with open(os.path.join(path, \"test_images_info.json\"), \"w\") as outfile: \n",
    "    json.dump(test_images_info, outfile)\n",
    "    \n",
    "with open(os.path.join(path, \"validation_images_info.json\"), \"w\") as outfile: \n",
    "    json.dump(validation_images_info, outfile)"
   ]
  },
  {
   "cell_type": "code",
   "execution_count": null,
   "metadata": {},
   "outputs": [],
   "source": [
    "python3 convert_images_to_tfr.py --logtostderr \\\n",
    "      --image_dir=\"/home/shashank/tensorflow_datasets/downloads/skin_cancer\" \\\n",
    "      --image_info_file=\"/home/shashank/tensorflow_datasets/downloads/skin_cancer/train_images_info.json\" \\\n",
    "      --output_file_prefix=\"/home/shashank/tensorflow_datasets/tfrecords/skin_cancer/train\" \\\n",
    "      --num_shards=1"
   ]
  }
 ],
 "metadata": {
  "kernelspec": {
   "display_name": "tapestry",
   "language": "python",
   "name": "python3"
  },
  "language_info": {
   "codemirror_mode": {
    "name": "ipython",
    "version": 3
   },
   "file_extension": ".py",
   "mimetype": "text/x-python",
   "name": "python",
   "nbconvert_exporter": "python",
   "pygments_lexer": "ipython3",
   "version": "3.10.12"
  }
 },
 "nbformat": 4,
 "nbformat_minor": 2
}
