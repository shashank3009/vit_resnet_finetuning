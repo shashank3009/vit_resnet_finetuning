{
 "cells": [
  {
   "cell_type": "code",
   "execution_count": 2,
   "metadata": {},
   "outputs": [],
   "source": [
    "import os\n",
    "import numpy as np\n",
    "import pandas as pd \n",
    "import json\n",
    "from PIL import Image\n"
   ]
  },
  {
   "cell_type": "markdown",
   "metadata": {},
   "source": [
    "# Image Classification"
   ]
  },
  {
   "cell_type": "markdown",
   "metadata": {},
   "source": [
    "### ArtDL"
   ]
  },
  {
   "cell_type": "code",
   "execution_count": 4,
   "metadata": {},
   "outputs": [
    {
     "data": {
      "text/plain": [
       "12833"
      ]
     },
     "execution_count": 4,
     "metadata": {},
     "output_type": "execute_result"
    }
   ],
   "source": [
    "(df.iloc[:,1:-1].sum(axis=1) == 0).sum()"
   ]
  },
  {
   "cell_type": "code",
   "execution_count": 6,
   "metadata": {},
   "outputs": [],
   "source": [
    "columns_rename = {'11H(ANTONY OF PADUA)': 'Anthony of Padua',\n",
    "                  '11H(FRANCIS)': 'Francis of Assisi',\n",
    "                  '11H(JEROME)': 'Jerome',\n",
    "                  '11H(JOHN THE BAPTIST)': 'John the Baptist',\n",
    "                  '11HH(MARY MAGDALENE)': 'Mary Magdalene',\n",
    "                  '11H(PAUL)': 'Paul',\n",
    "                  '11H(PETER)': 'Peter',\n",
    "                  '11H(DOMINIC)': 'Saint Dominic',\n",
    "                  '11H(SEBASTIAN)': 'Saint Sebastian',\n",
    "                  '11F(MARY)': 'Virgin Mary',\n",
    "                  }"
   ]
  },
  {
   "cell_type": "code",
   "execution_count": 7,
   "metadata": {},
   "outputs": [
    {
     "data": {
      "text/plain": [
       "['11H(ANTONY ABBOT)',\n",
       " '11H(AUGUSTINE)',\n",
       " '11H(JOHN)',\n",
       " '11H(JOSEPH)',\n",
       " '11H(STEPHEN)',\n",
       " '11HH(BARBARA)',\n",
       " '11HH(CATHERINE)',\n",
       " 'John Baptist - Child',\n",
       " 'John Baptist - Dead']"
      ]
     },
     "execution_count": 7,
     "metadata": {},
     "output_type": "execute_result"
    }
   ],
   "source": [
    "cols_to_drop = [col for col in df.columns[1:-1] if col not in columns_rename]\n",
    "cols_to_drop"
   ]
  },
  {
   "cell_type": "code",
   "execution_count": 8,
   "metadata": {},
   "outputs": [],
   "source": [
    "df.drop(cols_to_drop, axis=1, inplace=True)"
   ]
  },
  {
   "cell_type": "code",
   "execution_count": 11,
   "metadata": {},
   "outputs": [],
   "source": [
    "filt_ = df.iloc[:,1:-1].sum(axis=1) == 1\n",
    "df = df.loc[filt_].copy()"
   ]
  },
  {
   "cell_type": "code",
   "execution_count": 14,
   "metadata": {},
   "outputs": [],
   "source": [
    "df.rename(columns = columns_rename, inplace=True)"
   ]
  },
  {
   "cell_type": "code",
   "execution_count": 17,
   "metadata": {},
   "outputs": [
    {
     "name": "stdout",
     "output_type": "stream",
     "text": [
      "Virgin Mary\n",
      "Anthony of Padua\n",
      "Saint Dominic\n",
      "Francis of Assisi\n",
      "Jerome\n",
      "John the Baptist\n",
      "Paul\n",
      "Peter\n",
      "Saint Sebastian\n",
      "Mary Magdalene\n"
     ]
    }
   ],
   "source": [
    "df[\"class\"] = ''\n",
    "for col in df.columns[1:-2]:\n",
    "    print(col)\n",
    "    filt_ = df[col] == 1\n",
    "    df.loc[filt_, \"class\"] = col"
   ]
  },
  {
   "cell_type": "code",
   "execution_count": 25,
   "metadata": {},
   "outputs": [],
   "source": [
    "df_train = df.loc[df[\"set\"]==\"train\"].copy()\n",
    "df_test = df.loc[df[\"set\"]==\"test\"].copy()\n",
    "df_val = df.loc[df[\"set\"]==\"val\"].copy()"
   ]
  },
  {
   "cell_type": "code",
   "execution_count": 29,
   "metadata": {},
   "outputs": [],
   "source": [
    "image_files = os.listdir(\"/home/shashank/tensorflow_datasets/downloads/art_dl/ArtDL/JPEGImages\")"
   ]
  },
  {
   "cell_type": "code",
   "execution_count": 30,
   "metadata": {},
   "outputs": [
    {
     "data": {
      "text/plain": [
       "([], [], [])"
      ]
     },
     "execution_count": 30,
     "metadata": {},
     "output_type": "execute_result"
    }
   ],
   "source": [
    "train_missing = []\n",
    "for img in df_train[\"item\"]:\n",
    "    if img+\".jpg\" not in image_files:\n",
    "        train_missing.append(img)\n",
    "        \n",
    "test_missing = []\n",
    "for img in df_test[\"item\"]:\n",
    "    if img+\".jpg\" not in image_files:\n",
    "        test_missing.append(img)\n",
    "        \n",
    "val_missing = []\n",
    "for img in df_val[\"item\"]:\n",
    "    if img+\".jpg\" not in image_files:\n",
    "        val_missing.append(img)\n",
    "        \n",
    "train_missing, test_missing, val_missing"
   ]
  },
  {
   "cell_type": "code",
   "execution_count": 31,
   "metadata": {},
   "outputs": [
    {
     "data": {
      "text/plain": [
       "{'categories': [{'id': 0, 'name': 'Anthony of Padua'},\n",
       "  {'id': 1, 'name': 'Francis of Assisi'},\n",
       "  {'id': 2, 'name': 'Jerome'},\n",
       "  {'id': 3, 'name': 'John the Baptist'},\n",
       "  {'id': 4, 'name': 'Mary Magdalene'},\n",
       "  {'id': 5, 'name': 'Paul'},\n",
       "  {'id': 6, 'name': 'Peter'},\n",
       "  {'id': 7, 'name': 'Saint Dominic'},\n",
       "  {'id': 8, 'name': 'Saint Sebastian'},\n",
       "  {'id': 9, 'name': 'Virgin Mary'}]}"
      ]
     },
     "execution_count": 31,
     "metadata": {},
     "output_type": "execute_result"
    }
   ],
   "source": [
    "images_info = {}\n",
    "images_info[\"categories\"] = []\n",
    "i = 0\n",
    "for value in columns_rename.values():\n",
    "    x = {}\n",
    "    x[\"id\"] = i\n",
    "    x[\"name\"] = value\n",
    "    images_info[\"categories\"].append(x)\n",
    "    i+=1\n",
    "\n",
    "images_info"
   ]
  },
  {
   "cell_type": "code",
   "execution_count": 32,
   "metadata": {},
   "outputs": [
    {
     "data": {
      "text/plain": [
       "{'Anthony of Padua': 0,\n",
       " 'Francis of Assisi': 1,\n",
       " 'Jerome': 2,\n",
       " 'John the Baptist': 3,\n",
       " 'Mary Magdalene': 4,\n",
       " 'Paul': 5,\n",
       " 'Peter': 6,\n",
       " 'Saint Dominic': 7,\n",
       " 'Saint Sebastian': 8,\n",
       " 'Virgin Mary': 9}"
      ]
     },
     "execution_count": 32,
     "metadata": {},
     "output_type": "execute_result"
    }
   ],
   "source": [
    "path = \"/home/shashank/tensorflow_datasets/downloads/art_dl/ArtDL/JPEGImages\"\n",
    "map = {}\n",
    "for x_dict in images_info[\"categories\"]:\n",
    "    map[x_dict[\"name\"]] = x_dict[\"id\"]\n",
    "map"
   ]
  },
  {
   "cell_type": "code",
   "execution_count": 33,
   "metadata": {},
   "outputs": [],
   "source": [
    "train_images_info = images_info.copy()\n",
    "train_images_info[\"images\"] = []\n",
    "\n",
    "i=0\n",
    "for (img, label) in df_train[[\"item\", \"class\"]].values:\n",
    "    img_path = os.path.join(path, img+\".jpg\")\n",
    "    x = {}\n",
    "    x[\"label\"] = map[label]\n",
    "    x[\"file_name\"] =  img_path\n",
    "    img = Image.open(x[\"file_name\"])\n",
    "    img_array = np.array(img)\n",
    "    x[\"height\"] = img_array.shape[0]\n",
    "    x[\"width\"] = img_array.shape[1]\n",
    "    x[\"id\"] = i\n",
    "    train_images_info[\"images\"].append(x)\n",
    "    i+=1\n",
    "    "
   ]
  },
  {
   "cell_type": "code",
   "execution_count": 34,
   "metadata": {},
   "outputs": [],
   "source": [
    "test_images_info = images_info.copy()\n",
    "test_images_info[\"images\"] = []\n",
    "\n",
    "i=0\n",
    "for (img, label) in df_test[[\"item\", \"class\"]].values:\n",
    "    img_path = os.path.join(path, img+\".jpg\")\n",
    "    x = {}\n",
    "    x[\"label\"] = map[label]\n",
    "    x[\"file_name\"] =  os.path.join(img_path)\n",
    "    img = Image.open(x[\"file_name\"])\n",
    "    img_array = np.array(img)\n",
    "    x[\"height\"] = img_array.shape[0]\n",
    "    x[\"width\"] = img_array.shape[1]\n",
    "    x[\"id\"] = i\n",
    "    test_images_info[\"images\"].append(x)\n",
    "    i+=1\n",
    "    "
   ]
  },
  {
   "cell_type": "code",
   "execution_count": 35,
   "metadata": {},
   "outputs": [],
   "source": [
    "val_images_info = images_info.copy()\n",
    "val_images_info[\"images\"] = []\n",
    "\n",
    "i=0\n",
    "for (img, label) in df_val[[\"item\", \"class\"]].values:\n",
    "    img_path = os.path.join(path, img+\".jpg\")\n",
    "    x = {}\n",
    "    x[\"label\"] = map[label]\n",
    "    x[\"file_name\"] =  os.path.join(img_path)\n",
    "    img = Image.open(x[\"file_name\"])\n",
    "    img_array = np.array(img)\n",
    "    x[\"height\"] = img_array.shape[0]\n",
    "    x[\"width\"] = img_array.shape[1]\n",
    "    x[\"id\"] = i\n",
    "    val_images_info[\"images\"].append(x)\n",
    "    i+=1\n",
    "    "
   ]
  },
  {
   "cell_type": "code",
   "execution_count": 36,
   "metadata": {},
   "outputs": [],
   "source": [
    "path = '/home/shashank/tensorflow_datasets/downloads/art_dl/ArtDL/'"
   ]
  },
  {
   "cell_type": "code",
   "execution_count": 37,
   "metadata": {},
   "outputs": [],
   "source": [
    "import json \n",
    "\n",
    "with open(os.path.join(path, \"test_images_info.json\"), \"w\") as outfile: \n",
    "    json.dump(test_images_info, outfile)\n",
    "    \n",
    "with open(os.path.join(path, \"train_images_info.json\"), \"w\") as outfile: \n",
    "    json.dump(train_images_info, outfile)\n",
    "    \n",
    "with open(os.path.join(path, \"val_images_info.json\"), \"w\") as outfile: \n",
    "    json.dump(val_images_info, outfile)"
   ]
  },
  {
   "cell_type": "markdown",
   "metadata": {},
   "source": [
    "### Skin Cancer\n"
   ]
  },
  {
   "cell_type": "code",
   "execution_count": 2,
   "metadata": {},
   "outputs": [],
   "source": [
    "mapper = {\"actinic_keratoses\": 0,\n",
    "          \"basal_cell_carcinoma\": 1,\n",
    "          \"benign_keratosis-like_lesions\": 2,\n",
    "          \"dermatofibroma\": 3,\n",
    "          \"melanocytic_Nevi\": 4,\n",
    "          \"melanoma\": 5,\n",
    "          \"vascular_lesions\": 6,\n",
    "          }"
   ]
  },
  {
   "cell_type": "code",
   "execution_count": 3,
   "metadata": {},
   "outputs": [
    {
     "data": {
      "text/plain": [
       "{'categories': [{'id': 0, 'name': 'actinic_keratoses'},\n",
       "  {'id': 1, 'name': 'basal_cell_carcinoma'},\n",
       "  {'id': 2, 'name': 'benign_keratosis-like_lesions'},\n",
       "  {'id': 3, 'name': 'dermatofibroma'},\n",
       "  {'id': 4, 'name': 'melanocytic_Nevi'},\n",
       "  {'id': 5, 'name': 'melanoma'},\n",
       "  {'id': 6, 'name': 'vascular_lesions'}]}"
      ]
     },
     "execution_count": 3,
     "metadata": {},
     "output_type": "execute_result"
    }
   ],
   "source": [
    "images_info = {}\n",
    "images_info[\"categories\"] = []\n",
    "i = 0\n",
    "for (key, val) in mapper.items():\n",
    "    x = {}\n",
    "    x[\"id\"] = val\n",
    "    x[\"name\"] = key\n",
    "    images_info[\"categories\"].append(x)\n",
    "    i+=1\n",
    "\n",
    "images_info"
   ]
  },
  {
   "cell_type": "code",
   "execution_count": null,
   "metadata": {},
   "outputs": [],
   "source": [
    "\n",
    "train_images_info = images_info.copy()\n",
    "train_images_info[\"images\"] = []\n",
    "path = \"/home/shashank/tensorflow_datasets/downloads/skin_cancer/train\"\n",
    "i=0\n",
    "\n",
    "for category in mapper.keys():\n",
    "    for file in os.listdir(os.path.join(path, category)):\n",
    "        x = {}\n",
    "        x[\"label\"] = mapper[category]\n",
    "        x[\"file_name\"] =  os.path.join(path, category, file)\n",
    "                \n",
    "        img = Image.open(x[\"file_name\"])\n",
    "        img_array = np.array(img)\n",
    "        x[\"height\"] = img_array.shape[0]\n",
    "        x[\"width\"] = img_array.shape[1]\n",
    "        x[\"id\"] = i\n",
    "        train_images_info[\"images\"].append(x)\n",
    "        i+=1"
   ]
  },
  {
   "cell_type": "code",
   "execution_count": 15,
   "metadata": {},
   "outputs": [],
   "source": [
    "test_images_info = images_info.copy()\n",
    "test_images_info[\"images\"] = []\n",
    "path = \"/home/shashank/tensorflow_datasets/downloads/skin_cancer/test\"\n",
    "i=0\n",
    "\n",
    "for category in mapper.keys():\n",
    "    for file in os.listdir(os.path.join(path, category)):\n",
    "        x = {}\n",
    "        x[\"label\"] = mapper[category]\n",
    "        x[\"file_name\"] =  os.path.join(path, category, file)\n",
    "                \n",
    "        img = Image.open(x[\"file_name\"])\n",
    "        img_array = np.array(img)\n",
    "        x[\"height\"] = img_array.shape[0]\n",
    "        x[\"width\"] = img_array.shape[1]\n",
    "        x[\"id\"] = i\n",
    "        test_images_info[\"images\"].append(x)\n",
    "        i+=1"
   ]
  },
  {
   "cell_type": "code",
   "execution_count": 16,
   "metadata": {},
   "outputs": [],
   "source": [
    "validation_images_info = images_info.copy()\n",
    "validation_images_info[\"images\"] = []\n",
    "path = \"/home/shashank/tensorflow_datasets/downloads/skin_cancer/validation\"\n",
    "i=0\n",
    "\n",
    "for category in mapper.keys():\n",
    "    for file in os.listdir(os.path.join(path, category)):\n",
    "        x = {}\n",
    "        x[\"label\"] = mapper[category]\n",
    "        x[\"file_name\"] =  os.path.join(path, category, file)\n",
    "                \n",
    "        img = Image.open(x[\"file_name\"])\n",
    "        img_array = np.array(img)\n",
    "        x[\"height\"] = img_array.shape[0]\n",
    "        x[\"width\"] = img_array.shape[1]\n",
    "        x[\"id\"] = i\n",
    "        validation_images_info[\"images\"].append(x)\n",
    "        i+=1"
   ]
  },
  {
   "cell_type": "code",
   "execution_count": 17,
   "metadata": {},
   "outputs": [],
   "source": [
    "path = '/home/shashank/tensorflow_datasets/downloads/skin_cancer'"
   ]
  },
  {
   "cell_type": "code",
   "execution_count": 18,
   "metadata": {},
   "outputs": [],
   "source": [
    "import json \n",
    "with open(os.path.join(path, \"train_images_info.json\"), \"w\") as outfile: \n",
    "    json.dump(train_images_info, outfile)\n",
    "\n",
    "with open(os.path.join(path, \"test_images_info.json\"), \"w\") as outfile: \n",
    "    json.dump(test_images_info, outfile)\n",
    "    \n",
    "with open(os.path.join(path, \"validation_images_info.json\"), \"w\") as outfile: \n",
    "    json.dump(validation_images_info, outfile)"
   ]
  }
 ],
 "metadata": {
  "kernelspec": {
   "display_name": "tapestry",
   "language": "python",
   "name": "python3"
  },
  "language_info": {
   "codemirror_mode": {
    "name": "ipython",
    "version": 3
   },
   "file_extension": ".py",
   "mimetype": "text/x-python",
   "name": "python",
   "nbconvert_exporter": "python",
   "pygments_lexer": "ipython3",
   "version": "3.10.12"
  }
 },
 "nbformat": 4,
 "nbformat_minor": 2
}
